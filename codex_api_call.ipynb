{
 "cells": [
  {
   "cell_type": "code",
   "execution_count": null,
   "metadata": {},
   "outputs": [],
   "source": [
    "from openai import OpenAI\n",
    "client = OpenAI(base_url=\"xxxxx\", api_key=\"xxxxx\")\n",
    "out = client.chat.completions.create(\n",
    "    model=\"gpt-oss-20b\",\n",
    "    messages=[{\"role\":\"user\",\"content\":\"model version\"}],\n",
    "    temperature=0.2,\n",
    ")\n",
    "print(out.choices[0].message.content)\n"
   ]
  }
 ],
 "metadata": {
  "kernelspec": {
   "display_name": "Python 3",
   "language": "python",
   "name": "python3"
  },
  "language_info": {
   "name": "python",
   "version": "3.10"
  }
 },
 "nbformat": 4,
 "nbformat_minor": 5
}
