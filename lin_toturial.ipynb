{
 "cells": [
  {
   "cell_type": "markdown",
   "id": "07010e2b-6131-46a7-9cc3-da7f6dc17396",
   "metadata": {},
   "source": [
    "# This notebook will try to load simple litter survey data sample and try to train using it"
   ]
  },
  {
   "cell_type": "code",
   "execution_count": 31,
   "id": "498b9e0d-1375-4a64-97ce-d460ced7082c",
   "metadata": {},
   "outputs": [
    {
     "name": "stdout",
     "output_type": "stream",
     "text": [
      "Ultralytics 8.3.57 🚀 Python-3.10.12 torch-2.0.1+cu117 CUDA:0 (NVIDIA GeForce RTX 3080 Ti, 12287MiB)\n",
      "Setup complete ✅ (8 CPUs, 7.7 GB RAM, 132.4/1006.9 GB disk)\n"
     ]
    }
   ],
   "source": [
    "%pip install ultralytics\n",
    "import ultralytics\n",
    "ultralytics.checks()"
   ]
  },
  {
   "cell_type": "code",
   "execution_count": 7,
   "id": "1dab255b-33ad-4c17-8a6c-657ee08b1671",
   "metadata": {},
   "outputs": [
    {
     "name": "stdout",
     "output_type": "stream",
     "text": [
      "CITATION.cff\t docker\t\t     litter_survey_dataset  train_dataset\n",
      "CONTRIBUTING.md  dockerfile\t     mkdocs.yml\t\t    ultralytics\n",
      "LICENSE\t\t docs\t\t     pyproject.toml\n",
      "README.md\t examples\t     requirements.txt\n",
      "README.zh-CN.md  lin_toturial.ipynb  tests\n"
     ]
    }
   ],
   "source": [
    "!ls /app"
   ]
  },
  {
   "cell_type": "code",
   "execution_count": 8,
   "id": "7d06e8fb-3003-4d16-8785-f309259903b0",
   "metadata": {},
   "outputs": [
    {
     "name": "stdout",
     "output_type": "stream",
     "text": [
      "README.md\t\t       YOLOv8-OpenVINO-CPP-Inference\n",
      "RTDETR-ONNXRuntime-Python      YOLOv8-Region-Counter\n",
      "YOLO-Series-ONNXRuntime-Rust   YOLOv8-SAHI-Inference-Video\n",
      "YOLOv8-Action-Recognition      YOLOv8-Segmentation-ONNXRuntime-Python\n",
      "YOLOv8-CPP-Inference\t       YOLOv8-TFLite-Python\n",
      "YOLOv8-LibTorch-CPP-Inference  heatmaps.ipynb\n",
      "YOLOv8-ONNXRuntime\t       hub.ipynb\n",
      "YOLOv8-ONNXRuntime-CPP\t       object_counting.ipynb\n",
      "YOLOv8-ONNXRuntime-Rust        object_tracking.ipynb\n",
      "YOLOv8-OpenCV-ONNX-Python      tutorial.ipynb\n"
     ]
    }
   ],
   "source": [
    "!ls /app/examples  "
   ]
  },
  {
   "cell_type": "markdown",
   "id": "d5db1147-09a7-41b1-ac5e-13f23295082e",
   "metadata": {},
   "source": [
    "### Check if you have GPU enabled"
   ]
  },
  {
   "cell_type": "code",
   "execution_count": 30,
   "id": "0ff045ec-bd1c-4b67-8f0b-4c4509cd170b",
   "metadata": {},
   "outputs": [
    {
     "name": "stdout",
     "output_type": "stream",
     "text": [
      "True\n"
     ]
    }
   ],
   "source": [
    "!python3 -c \"import torch; print(torch.cuda.is_available())\""
   ]
  },
  {
   "cell_type": "markdown",
   "id": "1531011c-e5ee-434a-8c46-b443fe980fd8",
   "metadata": {},
   "source": [
    "### Check if your docker container has all the necessary lib"
   ]
  },
  {
   "cell_type": "code",
   "execution_count": 10,
   "id": "34d80ec6-e2f5-4b39-ae9a-08bdbcd184a6",
   "metadata": {},
   "outputs": [],
   "source": [
    "import torch"
   ]
  },
  {
   "cell_type": "code",
   "execution_count": 11,
   "id": "f8b161bf-e239-43db-985c-43d112a18127",
   "metadata": {},
   "outputs": [],
   "source": [
    "import ultralytics"
   ]
  },
  {
   "cell_type": "code",
   "execution_count": 12,
   "id": "0597acbf-3e8e-48a7-bcc8-c3388efdb58a",
   "metadata": {},
   "outputs": [],
   "source": [
    "import cv2"
   ]
  },
  {
   "cell_type": "code",
   "execution_count": 13,
   "id": "74275ff9-a681-4a05-b068-97081c5aed34",
   "metadata": {},
   "outputs": [
    {
     "name": "stdout",
     "output_type": "stream",
     "text": [
      "Importing worked! You are all set!\n"
     ]
    }
   ],
   "source": [
    "print('Importing worked! You are all set!')"
   ]
  },
  {
   "cell_type": "markdown",
   "id": "ce92d8a1-2426-4db9-b164-2da7ff05dff9",
   "metadata": {},
   "source": [
    "# Now try to load some image and run prediction"
   ]
  },
  {
   "cell_type": "code",
   "execution_count": 14,
   "id": "662bd85b-6186-46b7-83d9-e1b5efb19011",
   "metadata": {},
   "outputs": [],
   "source": [
    "import cv2\n",
    "\n",
    "def extract_frames(video_path):\n",
    "    cap = cv2.VideoCapture(video_path)\n",
    "    frame_rate = 30  # Assuming 30 fps\n",
    "    count = 0\n",
    "    while cap.isOpened():\n",
    "        ret, frame = cap.read()\n",
    "        if not ret:\n",
    "            break\n",
    "        if count % frame_rate == 0:\n",
    "            yield frame\n",
    "        count += 1\n",
    "    cap.release()"
   ]
  },
  {
   "cell_type": "code",
   "execution_count": 15,
   "id": "709c33d5-9605-407b-aada-b343c33539d0",
   "metadata": {},
   "outputs": [],
   "source": [
    "image_path = 'litter_survey_dataset/2024-07-21/RayBan/photo-21700_singular_display_fullPicture.jpeg'"
   ]
  },
  {
   "cell_type": "code",
   "execution_count": 16,
   "id": "28e915a2-a0a7-4244-b817-6f9f7eda149a",
   "metadata": {},
   "outputs": [
    {
     "name": "stdout",
     "output_type": "stream",
     "text": [
      "(4032, 3024, 3)\n",
      "\n",
      "0: 640x480 1 umbrella, 105.2ms\n",
      "Speed: 4.8ms preprocess, 105.2ms inference, 2.4ms postprocess per image at shape (1, 3, 640, 480)\n",
      "1131 2 3016 364\n",
      "available class id and label: {0: 'person', 1: 'bicycle', 2: 'car', 3: 'motorcycle', 4: 'airplane', 5: 'bus', 6: 'train', 7: 'truck', 8: 'boat', 9: 'traffic light', 10: 'fire hydrant', 11: 'stop sign', 12: 'parking meter', 13: 'bench', 14: 'bird', 15: 'cat', 16: 'dog', 17: 'horse', 18: 'sheep', 19: 'cow', 20: 'elephant', 21: 'bear', 22: 'zebra', 23: 'giraffe', 24: 'backpack', 25: 'umbrella', 26: 'handbag', 27: 'tie', 28: 'suitcase', 29: 'frisbee', 30: 'skis', 31: 'snowboard', 32: 'sports ball', 33: 'kite', 34: 'baseball bat', 35: 'baseball glove', 36: 'skateboard', 37: 'surfboard', 38: 'tennis racket', 39: 'bottle', 40: 'wine glass', 41: 'cup', 42: 'fork', 43: 'knife', 44: 'spoon', 45: 'bowl', 46: 'banana', 47: 'apple', 48: 'sandwich', 49: 'orange', 50: 'broccoli', 51: 'carrot', 52: 'hot dog', 53: 'pizza', 54: 'donut', 55: 'cake', 56: 'chair', 57: 'couch', 58: 'potted plant', 59: 'bed', 60: 'dining table', 61: 'toilet', 62: 'tv', 63: 'laptop', 64: 'mouse', 65: 'remote', 66: 'keyboard', 67: 'cell phone', 68: 'microwave', 69: 'oven', 70: 'toaster', 71: 'sink', 72: 'refrigerator', 73: 'book', 74: 'clock', 75: 'vase', 76: 'scissors', 77: 'teddy bear', 78: 'hair drier', 79: 'toothbrush'}\n",
      "predicted class id:\n",
      "25.0\n",
      "confidence 0.27078723907470703\n"
     ]
    },
    {
     "data": {
      "text/plain": [
       "<Figure size 1000x1000 with 1 Axes>"
      ]
     },
     "metadata": {},
     "output_type": "display_data"
    }
   ],
   "source": [
    "from ultralytics import YOLO\n",
    "from ultralytics.solutions import object_counter\n",
    "import cv2\n",
    "import matplotlib.pyplot as plt\n",
    "\n",
    "\n",
    "def run_inference(image_path):\n",
    "    # Read the input image\n",
    "    image = cv2.imread(image_path)\n",
    "    image_rgb = cv2.cvtColor(image, cv2.COLOR_BGR2RGB)  # Convert BGR to RGB for Matplotlib\n",
    "    \n",
    "    print(image.shape)\n",
    "    model = YOLO(\"yolo11n.pt\")\n",
    "    # Run inference on the image\n",
    "    results = model(image)\n",
    "    \n",
    "    # Loop through the results and draw bounding boxes\n",
    "    for result in results:\n",
    "        for box in result.boxes:\n",
    "            # Get the bounding box coordinates\n",
    "            x1, y1, x2, y2 = map(int, box.xyxy[0].cpu().numpy())\n",
    "            print(f\"{x1} {y1} {x2} {y2}\")\n",
    "            \n",
    "            # Draw the bounding box on the image\n",
    "            cv2.rectangle(image_rgb, (x1, y1), (x2, y2), (255, 0, 0), 12)  # Red color in RGB\n",
    "            label_position_x = round(x1)\n",
    "            label_position_y = round((y1+y2)/2)\n",
    "            # Get the class label and confidence score\n",
    "            label = result.names[int(box.cls[0].cpu().numpy())]\n",
    "            print(f\"available class id and label: {result.names}\\npredicted class id:\")\n",
    "            print(box.cls[0].cpu().numpy())\n",
    "            \n",
    "            confidence = float(box.conf[0].cpu().numpy())\n",
    "            print(f\"confidence {confidence}\")\n",
    "            \n",
    "            # Draw the label and confidence score on the image with increased text size\n",
    "            font_scale = 6  # Increased from 0.5 to 5 for 10x larger text\n",
    "            thickness = 12  # Increased thickness for better visibility at larger scale\n",
    "            cv2.putText(image_rgb, f\"{label}: {confidence:.2f}\", (label_position_x, label_position_y), cv2.FONT_HERSHEY_SIMPLEX, font_scale, (255, 0, 0), thickness, cv2.LINE_AA)\n",
    "    \n",
    "    # Display the image with bounding boxes using Matplotlib\n",
    "    plt.figure(figsize=(10,10))\n",
    "    plt.imshow(image_rgb)\n",
    "    plt.axis('off')\n",
    "    plt.show()\n",
    "\n",
    "\n",
    "\n",
    "# Run the inference\n",
    "run_inference(image_path)"
   ]
  },
  {
   "cell_type": "markdown",
   "id": "b5cbfe2d-c5d0-45c9-80b3-4bfe348dc68c",
   "metadata": {},
   "source": [
    "### The same can be done via cli"
   ]
  },
  {
   "cell_type": "code",
   "execution_count": 17,
   "id": "1fa0135d-1bfe-4081-8e17-d14dbfe57cf3",
   "metadata": {},
   "outputs": [
    {
     "name": "stdout",
     "output_type": "stream",
     "text": [
      "Ultralytics 8.3.57 🚀 Python-3.10.12 torch-2.0.1+cu117 CUDA:0 (NVIDIA GeForce RTX 3080 Ti, 12287MiB)\n",
      "YOLO11n summary (fused): 238 layers, 2,616,248 parameters, 0 gradients, 6.5 GFLOPs\n",
      "\n",
      "image 1/1 /ultralytics/litter_survey_dataset/2024-07-21/RayBan/photo-21700_singular_display_fullPicture.jpeg: 640x480 1 umbrella, 113.3ms\n",
      "Speed: 7.6ms preprocess, 113.3ms inference, 6.6ms postprocess per image at shape (1, 3, 640, 480)\n",
      "Results saved to \u001b[1m/ultralytics/runs/detect/predict\u001b[0m\n",
      "💡 Learn more at https://docs.ultralytics.com/modes/predict\n"
     ]
    }
   ],
   "source": [
    "!yolo predict model=yolo11n.pt source='litter_survey_dataset/2024-07-21/RayBan/photo-21700_singular_display_fullPicture.jpeg'"
   ]
  },
  {
   "cell_type": "markdown",
   "id": "e079dcd2-382c-4ca8-bf0c-e9be294d7e68",
   "metadata": {},
   "source": [
    "# Model Training \n",
    "### Refer to https://docs.ultralytics.com/modes/train/#tensorboard"
   ]
  },
  {
   "cell_type": "code",
   "execution_count": 2,
   "id": "3cf78b08-337e-40be-a8d7-5d5892539148",
   "metadata": {},
   "outputs": [
    {
     "name": "stdout",
     "output_type": "stream",
     "text": [
      "Downloading https://github.com/ultralytics/assets/releases/download/v8.3.0/yolo11n.pt to 'yolo11n.pt'...\n"
     ]
    },
    {
     "name": "stderr",
     "output_type": "stream",
     "text": [
      "100%|███████████████████████████████████████████████████████████████████████████████████████████████████████████████████████████████████████████████████████████████████████████████████████████████████████████████████████████████| 5.35M/5.35M [00:00<00:00, 22.2MB/s]\n"
     ]
    },
    {
     "name": "stdout",
     "output_type": "stream",
     "text": [
      "Ultralytics 8.3.57 🚀 Python-3.10.12 torch-2.0.1+cu117 CUDA:0 (NVIDIA GeForce RTX 3080 Ti, 12287MiB)\n",
      "\u001b[34m\u001b[1mengine/trainer: \u001b[0mtask=detect, mode=train, model=yolo11n.pt, data=coco8.yaml, epochs=3, time=None, patience=100, batch=16, imgsz=640, save=True, save_period=-1, cache=False, device=None, workers=8, project=None, name=train, exist_ok=False, pretrained=True, optimizer=auto, verbose=True, seed=0, deterministic=True, single_cls=False, rect=False, cos_lr=False, close_mosaic=10, resume=False, amp=True, fraction=1.0, profile=False, freeze=None, multi_scale=False, overlap_mask=True, mask_ratio=4, dropout=0.0, val=True, split=val, save_json=False, save_hybrid=False, conf=None, iou=0.7, max_det=300, half=False, dnn=False, plots=True, source=None, vid_stride=1, stream_buffer=False, visualize=False, augment=False, agnostic_nms=False, classes=None, retina_masks=False, embed=None, show=False, save_frames=False, save_txt=False, save_conf=False, save_crop=False, show_labels=True, show_conf=True, show_boxes=True, line_width=None, format=torchscript, keras=False, optimize=False, int8=False, dynamic=False, simplify=True, opset=None, workspace=None, nms=False, lr0=0.01, lrf=0.01, momentum=0.937, weight_decay=0.0005, warmup_epochs=3.0, warmup_momentum=0.8, warmup_bias_lr=0.1, box=7.5, cls=0.5, dfl=1.5, pose=12.0, kobj=1.0, nbs=64, hsv_h=0.015, hsv_s=0.7, hsv_v=0.4, degrees=0.0, translate=0.1, scale=0.5, shear=0.0, perspective=0.0, flipud=0.0, fliplr=0.5, bgr=0.0, mosaic=1.0, mixup=0.0, copy_paste=0.0, copy_paste_mode=flip, auto_augment=randaugment, erasing=0.4, crop_fraction=1.0, cfg=None, tracker=botsort.yaml, save_dir=/ultralytics/runs/detect/train\n",
      "\n",
      "Dataset 'coco8.yaml' images not found ⚠️, missing path '/datasets/coco8/images/val'\n",
      "Downloading https://ultralytics.com/assets/coco8.zip to '/datasets/coco8.zip'...\n"
     ]
    },
    {
     "name": "stderr",
     "output_type": "stream",
     "text": [
      "100%|█████████████████████████████████████████████████████████████████████████████████████████████████████████████████████████████████████████████████████████████████████████████████████████████████████████████████████████████████| 433k/433k [00:00<00:00, 8.08MB/s]\n",
      "Unzipping /datasets/coco8.zip to /datasets/coco8...: 100%|██████████| 25/25 [00:00<00:00, 4218.09file/s]"
     ]
    },
    {
     "name": "stdout",
     "output_type": "stream",
     "text": [
      "Dataset download success ✅ (1.0s), saved to \u001b[1m/datasets\u001b[0m\n",
      "\n"
     ]
    },
    {
     "name": "stderr",
     "output_type": "stream",
     "text": [
      "\n"
     ]
    },
    {
     "name": "stdout",
     "output_type": "stream",
     "text": [
      "Downloading https://ultralytics.com/assets/Arial.ttf to '/root/.config/Ultralytics/Arial.ttf'...\n"
     ]
    },
    {
     "name": "stderr",
     "output_type": "stream",
     "text": [
      "100%|█████████████████████████████████████████████████████████████████████████████████████████████████████████████████████████████████████████████████████████████████████████████████████████████████████████████████████████████████| 755k/755k [00:00<00:00, 12.8MB/s]"
     ]
    },
    {
     "name": "stdout",
     "output_type": "stream",
     "text": [
      "\n",
      "                   from  n    params  module                                       arguments                     \n",
      "  0                  -1  1       464  ultralytics.nn.modules.conv.Conv             [3, 16, 3, 2]                 \n",
      "  1                  -1  1      4672  ultralytics.nn.modules.conv.Conv             [16, 32, 3, 2]                \n",
      "  2                  -1  1      6640  ultralytics.nn.modules.block.C3k2            [32, 64, 1, False, 0.25]      \n",
      "  3                  -1  1     36992  ultralytics.nn.modules.conv.Conv             [64, 64, 3, 2]                \n",
      "  4                  -1  1     26080  ultralytics.nn.modules.block.C3k2            [64, 128, 1, False, 0.25]     \n",
      "  5                  -1  1    147712  ultralytics.nn.modules.conv.Conv             [128, 128, 3, 2]              \n",
      "  6                  -1  1     87040  ultralytics.nn.modules.block.C3k2            [128, 128, 1, True]           \n",
      "  7                  -1  1    295424  ultralytics.nn.modules.conv.Conv             [128, 256, 3, 2]              \n",
      "  8                  -1  1    346112  ultralytics.nn.modules.block.C3k2            [256, 256, 1, True]           \n",
      "  9                  -1  1    164608  ultralytics.nn.modules.block.SPPF            [256, 256, 5]                 \n",
      " 10                  -1  1    249728  ultralytics.nn.modules.block.C2PSA           [256, 256, 1]                 \n",
      " 11                  -1  1         0  torch.nn.modules.upsampling.Upsample         [None, 2, 'nearest']          \n",
      " 12             [-1, 6]  1         0  ultralytics.nn.modules.conv.Concat           [1]                           \n",
      " 13                  -1  1    111296  ultralytics.nn.modules.block.C3k2            [384, 128, 1, False]          \n",
      " 14                  -1  1         0  torch.nn.modules.upsampling.Upsample         [None, 2, 'nearest']          \n",
      " 15             [-1, 4]  1         0  ultralytics.nn.modules.conv.Concat           [1]                           \n",
      " 16                  -1  1     32096  ultralytics.nn.modules.block.C3k2            [256, 64, 1, False]           \n",
      " 17                  -1  1     36992  ultralytics.nn.modules.conv.Conv             [64, 64, 3, 2]                \n",
      " 18            [-1, 13]  1         0  ultralytics.nn.modules.conv.Concat           [1]                           \n",
      " 19                  -1  1     86720  ultralytics.nn.modules.block.C3k2            [192, 128, 1, False]          \n",
      " 20                  -1  1    147712  ultralytics.nn.modules.conv.Conv             [128, 128, 3, 2]              \n",
      " 21            [-1, 10]  1         0  ultralytics.nn.modules.conv.Concat           [1]                           \n",
      " 22                  -1  1    378880  ultralytics.nn.modules.block.C3k2            [384, 256, 1, True]           \n",
      " 23        [16, 19, 22]  1    464912  ultralytics.nn.modules.head.Detect           [80, [64, 128, 256]]          \n"
     ]
    },
    {
     "name": "stderr",
     "output_type": "stream",
     "text": [
      "\n"
     ]
    },
    {
     "name": "stdout",
     "output_type": "stream",
     "text": [
      "YOLO11n summary: 319 layers, 2,624,080 parameters, 2,624,064 gradients, 6.6 GFLOPs\n",
      "\n",
      "Transferred 499/499 items from pretrained weights\n",
      "Freezing layer 'model.23.dfl.conv.weight'\n",
      "\u001b[34m\u001b[1mAMP: \u001b[0mrunning Automatic Mixed Precision (AMP) checks...\n",
      "\u001b[34m\u001b[1mAMP: \u001b[0mchecks passed ✅\n"
     ]
    },
    {
     "name": "stderr",
     "output_type": "stream",
     "text": [
      "\u001b[34m\u001b[1mtrain: \u001b[0mScanning /datasets/coco8/labels/train... 4 images, 0 backgrounds, 0 corrupt: 100%|██████████| 4/4 [00:00<00:00, 2752.17it/s]\u001b[0m"
     ]
    },
    {
     "name": "stdout",
     "output_type": "stream",
     "text": [
      "\u001b[34m\u001b[1mtrain: \u001b[0mNew cache created: /datasets/coco8/labels/train.cache\n"
     ]
    },
    {
     "name": "stderr",
     "output_type": "stream",
     "text": [
      "\n",
      "\u001b[34m\u001b[1mval: \u001b[0mScanning /datasets/coco8/labels/val... 4 images, 0 backgrounds, 0 corrupt: 100%|██████████| 4/4 [00:00<00:00, 723.78it/s]\u001b[0m"
     ]
    },
    {
     "name": "stdout",
     "output_type": "stream",
     "text": [
      "\u001b[34m\u001b[1mval: \u001b[0mNew cache created: /datasets/coco8/labels/val.cache\n"
     ]
    },
    {
     "name": "stderr",
     "output_type": "stream",
     "text": [
      "\n"
     ]
    },
    {
     "name": "stdout",
     "output_type": "stream",
     "text": [
      "Plotting labels to /ultralytics/runs/detect/train/labels.jpg... \n",
      "\u001b[34m\u001b[1moptimizer:\u001b[0m 'optimizer=auto' found, ignoring 'lr0=0.01' and 'momentum=0.937' and determining best 'optimizer', 'lr0' and 'momentum' automatically... \n",
      "\u001b[34m\u001b[1moptimizer:\u001b[0m AdamW(lr=0.000119, momentum=0.9) with parameter groups 81 weight(decay=0.0), 88 weight(decay=0.0005), 87 bias(decay=0.0)\n",
      "Image sizes 640 train, 640 val\n",
      "Using 8 dataloader workers\n",
      "Logging results to \u001b[1m/ultralytics/runs/detect/train\u001b[0m\n",
      "Starting training for 3 epochs...\n",
      "\n",
      "      Epoch    GPU_mem   box_loss   cls_loss   dfl_loss  Instances       Size\n"
     ]
    },
    {
     "name": "stderr",
     "output_type": "stream",
     "text": [
      "        1/3     0.717G      1.092       2.75      1.488         21        640: 100%|██████████| 1/1 [00:01<00:00,  1.29s/it]\n",
      "                 Class     Images  Instances      Box(P          R      mAP50  mAP50-95): 100%|██████████| 1/1 [00:01<00:00,  1.13s/it]"
     ]
    },
    {
     "name": "stdout",
     "output_type": "stream",
     "text": [
      "                   all          4         17      0.568       0.85      0.878      0.634\n"
     ]
    },
    {
     "name": "stderr",
     "output_type": "stream",
     "text": [
      "\n"
     ]
    },
    {
     "name": "stdout",
     "output_type": "stream",
     "text": [
      "\n",
      "      Epoch    GPU_mem   box_loss   cls_loss   dfl_loss  Instances       Size\n"
     ]
    },
    {
     "name": "stderr",
     "output_type": "stream",
     "text": [
      "        2/3     0.849G      1.186      2.796      1.488         36        640: 100%|██████████| 1/1 [00:00<00:00,  7.49it/s]\n",
      "                 Class     Images  Instances      Box(P          R      mAP50  mAP50-95): 100%|██████████| 1/1 [00:00<00:00, 13.35it/s]"
     ]
    },
    {
     "name": "stdout",
     "output_type": "stream",
     "text": [
      "                   all          4         17      0.557       0.85      0.886      0.635\n"
     ]
    },
    {
     "name": "stderr",
     "output_type": "stream",
     "text": [
      "\n"
     ]
    },
    {
     "name": "stdout",
     "output_type": "stream",
     "text": [
      "\n",
      "      Epoch    GPU_mem   box_loss   cls_loss   dfl_loss  Instances       Size\n"
     ]
    },
    {
     "name": "stderr",
     "output_type": "stream",
     "text": [
      "        3/3     0.784G      1.096      2.508      1.219         20        640: 100%|██████████| 1/1 [00:00<00:00,  6.21it/s]\n",
      "                 Class     Images  Instances      Box(P          R      mAP50  mAP50-95): 100%|██████████| 1/1 [00:00<00:00, 13.69it/s]"
     ]
    },
    {
     "name": "stdout",
     "output_type": "stream",
     "text": [
      "                   all          4         17      0.559       0.85      0.851      0.615\n"
     ]
    },
    {
     "name": "stderr",
     "output_type": "stream",
     "text": [
      "\n"
     ]
    },
    {
     "name": "stdout",
     "output_type": "stream",
     "text": [
      "\n",
      "3 epochs completed in 0.001 hours.\n",
      "Optimizer stripped from /ultralytics/runs/detect/train/weights/last.pt, 5.5MB\n",
      "Optimizer stripped from /ultralytics/runs/detect/train/weights/best.pt, 5.5MB\n",
      "\n",
      "Validating /ultralytics/runs/detect/train/weights/best.pt...\n",
      "Ultralytics 8.3.57 🚀 Python-3.10.12 torch-2.0.1+cu117 CUDA:0 (NVIDIA GeForce RTX 3080 Ti, 12287MiB)\n",
      "YOLO11n summary (fused): 238 layers, 2,616,248 parameters, 0 gradients, 6.5 GFLOPs\n"
     ]
    },
    {
     "name": "stderr",
     "output_type": "stream",
     "text": [
      "                 Class     Images  Instances      Box(P          R      mAP50  mAP50-95): 100%|██████████| 1/1 [00:00<00:00, 11.51it/s]\n"
     ]
    },
    {
     "name": "stdout",
     "output_type": "stream",
     "text": [
      "                   all          4         17      0.558       0.85      0.886      0.635\n",
      "                person          3         10      0.548        0.6      0.592      0.265\n",
      "                   dog          1          1      0.541          1      0.995      0.697\n",
      "                 horse          1          2        0.5          1      0.995      0.674\n",
      "              elephant          1          2      0.358        0.5      0.745      0.281\n",
      "              umbrella          1          1      0.563          1      0.995      0.995\n",
      "          potted plant          1          1       0.84          1      0.995      0.895\n",
      "Speed: 0.8ms preprocess, 12.2ms inference, 0.0ms loss, 2.2ms postprocess per image\n",
      "Results saved to \u001b[1m/ultralytics/runs/detect/train\u001b[0m\n"
     ]
    }
   ],
   "source": [
    "from ultralytics import YOLO\n",
    "\n",
    "# Load a model\n",
    "model = YOLO(\"yolo11n.pt\")  # load a pretrained model (recommended for training)\n",
    "\n",
    "# Train the model\n",
    "results = model.train(data=\"coco8.yaml\", epochs=3, imgsz=640)"
   ]
  },
  {
   "cell_type": "code",
   "execution_count": 3,
   "id": "54a5933a-9214-4180-804e-d32118a3b1ed",
   "metadata": {},
   "outputs": [
    {
     "name": "stdout",
     "output_type": "stream",
     "text": [
      "Training success!\n"
     ]
    }
   ],
   "source": [
    "print('Training success!')"
   ]
  },
  {
   "cell_type": "markdown",
   "id": "efc11df9-b11b-43cf-9917-b2328cdb4164",
   "metadata": {},
   "source": [
    "### Now try to train using litter survey data"
   ]
  },
  {
   "cell_type": "code",
   "execution_count": 27,
   "id": "658b9d8f-299f-40e3-af3d-c9bfb80fee5a",
   "metadata": {},
   "outputs": [
    {
     "name": "stdout",
     "output_type": "stream",
     "text": [
      "photo-19704_singular_display_fullPicture.json\n",
      "photo-19639_singular_display_fullPicture.json\n",
      "mcp_photo-19652_singular_display_fullPicture.json\n",
      "photo-1007_singular_display_fullPicture.json\n",
      "photo-3371_singular_display_fullPicture.json\n",
      "mcp_photo-19511_singular_display_fullPicture.json\n"
     ]
    }
   ],
   "source": [
    "# First prepare the dataset \n",
    "\n",
    "import os \n",
    "import json \n",
    "img_width = 3024\n",
    "img_height = 4032 \n",
    "\n",
    "label_dir = 'train_dataset/labels'\n",
    "for label_type in ['train', 'val']:\n",
    "    label_files = os.listdir(f'{label_dir}/{label_type}')\n",
    "    for label_json in label_files: \n",
    "        if label_json.endswith('.json'):\n",
    "            print(label_json)\n",
    "            with open(f'{label_dir}/{label_type}/{label_json}', 'r') as json_file_content:\n",
    "                json_data = json.load(json_file_content)\n",
    "                shapes = json_data['shapes']\n",
    "                for s in shapes:\n",
    "                    if s['label'] == 'Grabber':\n",
    "                        x1,y1 = s['points'][0] \n",
    "                        x2,y2 = s['points'][1]\n",
    "                        center_x = (x1+x2)/2 / img_width\n",
    "                        center_y = (y1+y2)/2 / img_height\n",
    "                        width = abs(x2-x1)  / img_width\n",
    "                        height = abs(y2-y1) / img_height\n",
    "                        label_txt = label_json.replace('.json','.txt') \n",
    "                        with open(f'{label_dir}/{label_type}/{label_txt}', 'w') as txt_file:\n",
    "                            txt_file.write(f'1 {center_x} {center_y} {width} {height}')\n",
    "\n"
   ]
  },
  {
   "cell_type": "code",
   "execution_count": 34,
   "id": "c301e69c-ae1f-4b7a-9fa4-58cba02fe58f",
   "metadata": {},
   "outputs": [
    {
     "name": "stdout",
     "output_type": "stream",
     "text": [
      "Loading dataset: /app/train_dataset/train_dataset.yaml\n"
     ]
    }
   ],
   "source": [
    "from ultralytics import YOLO\n",
    "\n",
    "model = YOLO('yolo11n.pt')\n",
    "data_yaml = '/app/train_dataset/train_dataset.yaml'\n",
    "print(f\"Loading dataset: {data_yaml}\")"
   ]
  },
  {
   "cell_type": "code",
   "execution_count": 36,
   "id": "a4b4ccc7-b22f-4063-9f03-5342ee1f11d7",
   "metadata": {},
   "outputs": [],
   "source": [
    "\n",
    "# model.train(data=data_yaml, epochs=3, imgsz=max(3042, 4032))"
   ]
  },
  {
   "cell_type": "code",
   "execution_count": null,
   "id": "5ba6429f-1511-43f8-a1e3-7c4d1b069a6d",
   "metadata": {},
   "outputs": [],
   "source": []
  }
 ],
 "metadata": {
  "kernelspec": {
   "display_name": "Python 3",
   "language": "python",
   "name": "python3"
  },
  "language_info": {
   "codemirror_mode": {
    "name": "ipython",
    "version": 3
   },
   "file_extension": ".py",
   "mimetype": "text/x-python",
   "name": "python",
   "nbconvert_exporter": "python",
   "pygments_lexer": "ipython3",
   "version": "3.12.4"
  }
 },
 "nbformat": 4,
 "nbformat_minor": 5
}
