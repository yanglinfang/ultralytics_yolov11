{
 "cells": [
  {
   "cell_type": "code",
   "execution_count": 1,
   "id": "5fe96ac9-4eb3-4050-9456-eedc30607a76",
   "metadata": {},
   "outputs": [],
   "source": [
    "import cv2\n",
    "import os\n",
    "\n",
    "def split_video_to_frames(video_path, output_folder):\n",
    "    \"\"\"\n",
    "    Split a video file into frames and save them as images with a filename prefix.\n",
    "\n",
    "    Args:\n",
    "        video_path (str): Path to the input video file.\n",
    "        output_folder (str): Path to the folder where frames will be saved.\n",
    "\n",
    "    Returns:\n",
    "        None\n",
    "    \"\"\"\n",
    "    # Extract the base name without extension to use as prefix\n",
    "    video_name = os.path.splitext(os.path.basename(video_path))[0]\n",
    "\n",
    "    # Create the output folder if it doesn't exist\n",
    "    os.makedirs(output_folder, exist_ok=True)\n",
    "\n",
    "    # Open the video file\n",
    "    cap = cv2.VideoCapture(video_path)\n",
    "    if not cap.isOpened():\n",
    "        print(f\"Error: Could not open video {video_path}\")\n",
    "        return\n",
    "\n",
    "    # Frame counter\n",
    "    frame_count = 0\n",
    "\n",
    "    # Calculate the total number of frames for padding (7 digits for 9000 max frames)\n",
    "    total_frames = int(cap.get(cv2.CAP_PROP_FRAME_COUNT))\n",
    "    padding_width = max(len(str(total_frames)), 7)\n",
    "\n",
    "    while True:\n",
    "        ret, frame = cap.read()\n",
    "        if not ret:\n",
    "            break  # Break when the video ends\n",
    "\n",
    "        # Construct the frame file name with 7-digit zero-padding\n",
    "        frame_file = os.path.join(output_folder, f\"{video_name}_{frame_count:0{padding_width}d}.jpeg\")\n",
    "\n",
    "        # Save the frame as an image\n",
    "        cv2.imwrite(frame_file, frame)\n",
    "        frame_count += 1\n",
    "\n",
    "    cap.release()\n",
    "    print(f\"Extracted {frame_count} frames to {output_folder}\")"
   ]
  },
  {
   "cell_type": "code",
   "execution_count": 3,
   "id": "1f75ac06-d212-47e1-9783-32708e0ea0c2",
   "metadata": {},
   "outputs": [
    {
     "name": "stdout",
     "output_type": "stream",
     "text": [
      "Extracted 910 frames to /app/litter_survey_dataset/SampleVideoToAnnotate/VID_20240616_094741_00_050\n"
     ]
    }
   ],
   "source": [
    "video_path = '/app/litter_survey_dataset/SampleVideoToAnnotate/VID_20240616_094741_00_050.mp4'\n",
    "output_folder = '/app/litter_survey_dataset/SampleVideoToAnnotate/VID_20240616_094741_00_050'\n",
    "split_video_to_frames(video_path,output_folder)"
   ]
  },
  {
   "cell_type": "code",
   "execution_count": 13,
   "id": "867278e2-8031-438b-8dbf-1de99f1adfb4",
   "metadata": {},
   "outputs": [
    {
     "name": "stdout",
     "output_type": "stream",
     "text": [
      "Extracted 910 frames to /app/litter_survey_dataset/SampleVideoToAnnotate/VID_20240616_094741_00_050\n",
      "Extracted 2749 frames to /app/litter_survey_dataset/SampleVideoToAnnotate/VID_20241103_100210_00_002\n",
      "Extracted 509 frames to /app/litter_survey_dataset/SampleVideoToAnnotate/VID_20241103_100444_00_003\n",
      "Extracted 2042 frames to /app/litter_survey_dataset/SampleVideoToAnnotate/VID_20241103_100512_00_004\n",
      "Extracted 1941 frames to /app/litter_survey_dataset/SampleVideoToAnnotate/VID_20241103_100630_00_005\n",
      "Extracted 1815 frames to /app/litter_survey_dataset/SampleVideoToAnnotate/VID_20241103_100747_00_006\n",
      "Extracted 2104 frames to /app/litter_survey_dataset/SampleVideoToAnnotate/VID_20241103_100859_00_007\n",
      "Extracted 2015 frames to /app/litter_survey_dataset/SampleVideoToAnnotate/VID_20241103_101016_00_008\n",
      "Extracted 2155 frames to /app/litter_survey_dataset/SampleVideoToAnnotate/VID_20241103_101134_00_009\n",
      "Extracted 1598 frames to /app/litter_survey_dataset/SampleVideoToAnnotate/VID_20241103_101255_00_010\n",
      "Extracted 2165 frames to /app/litter_survey_dataset/SampleVideoToAnnotate/VID_20241103_101401_00_011\n",
      "Extracted 2028 frames to /app/litter_survey_dataset/SampleVideoToAnnotate/VID_20241103_101523_00_012\n",
      "Extracted 2077 frames to /app/litter_survey_dataset/SampleVideoToAnnotate/VID_20241103_101639_00_013\n",
      "Extracted 1884 frames to /app/litter_survey_dataset/SampleVideoToAnnotate/VID_20241103_101800_00_014\n",
      "Extracted 2466 frames to /app/litter_survey_dataset/SampleVideoToAnnotate/VID_20241103_101912_00_015\n",
      "Extracted 2061 frames to /app/litter_survey_dataset/SampleVideoToAnnotate/VID_20241103_102044_00_016\n",
      "Extracted 2265 frames to /app/litter_survey_dataset/SampleVideoToAnnotate/VID_20241103_102204_00_017\n",
      "Extracted 1195 frames to /app/litter_survey_dataset/SampleVideoToAnnotate/VID_20241103_102340_00_018\n",
      "Extracted 1701 frames to /app/litter_survey_dataset/SampleVideoToAnnotate/VID_20241103_112713_00_019\n",
      "Extracted 4618 frames to /app/litter_survey_dataset/SampleVideoToAnnotate/VID_20241103_113111_00_020\n",
      "Extracted 2183 frames to /app/litter_survey_dataset/SampleVideoToAnnotate/VID_20241103_113359_00_021\n"
     ]
    }
   ],
   "source": [
    "video_output_folder_template = '/app/litter_survey_dataset/SampleVideoToAnnotate/{video_name}'\n",
    "video_paths = os.listdir('/app/litter_survey_dataset/SampleVideoToAnnotate/')\n",
    "for video_path in video_paths:\n",
    "    if video_path.endswith('.mp4'):\n",
    "        output_folder = video_output_folder_template.format(video_name=video_path.split('.')[0])\n",
    "        split_video_to_frames(video_output_folder_template.format(video_name=video_path), output_folder=output_folder)"
   ]
  },
  {
   "cell_type": "code",
   "execution_count": null,
   "id": "1700c219-ef4a-4877-9956-073139757d3f",
   "metadata": {},
   "outputs": [],
   "source": []
  }
 ],
 "metadata": {
  "kernelspec": {
   "display_name": "Python 3 (ipykernel)",
   "language": "python",
   "name": "python3"
  },
  "language_info": {
   "codemirror_mode": {
    "name": "ipython",
    "version": 3
   },
   "file_extension": ".py",
   "mimetype": "text/x-python",
   "name": "python",
   "nbconvert_exporter": "python",
   "pygments_lexer": "ipython3",
   "version": "3.10.12"
  }
 },
 "nbformat": 4,
 "nbformat_minor": 5
}
